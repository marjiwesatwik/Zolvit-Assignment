{
 "cells": [
  {
   "cell_type": "code",
   "execution_count": 7,
   "id": "3b472cab-9923-486d-b266-3b1f871fff04",
   "metadata": {},
   "outputs": [],
   "source": [
    "import os"
   ]
  },
  {
   "cell_type": "code",
   "execution_count": 36,
   "id": "1401d94c-73e4-4e77-b0f9-09f59cfa1555",
   "metadata": {},
   "outputs": [],
   "source": [
    "path=\"Jan to Mar\""
   ]
  },
  {
   "cell_type": "code",
   "execution_count": 27,
   "id": "04298996-9a6d-4a7e-8d69-eade338fad85",
   "metadata": {},
   "outputs": [
    {
     "data": {
      "text/plain": [
       "'INV-117_Naman.pdf'"
      ]
     },
     "execution_count": 27,
     "metadata": {},
     "output_type": "execute_result"
    }
   ],
   "source": [
    "os.listdir(path)[0]"
   ]
  },
  {
   "cell_type": "code",
   "execution_count": 30,
   "id": "8c667f10-8074-4402-81f7-a09cc16b0504",
   "metadata": {},
   "outputs": [
    {
     "name": "stdout",
     "output_type": "stream",
     "text": [
      "TA X  I N V O I C E O R I G I N A L  F O R  R E C I P I E N T \n",
      "UNCUE DERMACARE PRIVATE LIMITED\n",
      "GSTIN 23AADCU2395N1ZY     \n",
      "C/o KARUNA GUPTA KURELE, 1st Floor\n",
      "S.P Bungalow Ke Pichhe, Shoagpur Shahdol, Shahdol\n",
      "Shahdol, MADHYA PRADESH, 484001\n",
      "Mobile +91 8585960963   Email ruhi@dermaq.in\n",
      "Invoice #: INV-117 Invoice Date: 01 Feb 2024 Due Date: 29 Jan 2024\n",
      "Customer Details:\n",
      "Naman\n",
      "Place of Supply: \n",
      "23-MADHYA PRADESH\n",
      "#Item Rate / Item QtyTaxable ValueTax AmountAmount\n",
      "1Kera M 5% Solution 492.86\n",
      "616.07 (-20%)1 BTL492.8659.14 (12%)552.00\n",
      "2Arachitol Nano (60k) 4*5ml  299.58\n",
      "340.43 (-12%)3 BTL898.73107.85 (12%)1,006.58\n",
      "3Neurobion Forte - 30 tablets   30.58\n",
      "34.75 (-12%)3 STRP91.7316.51 (18%)108.24\n",
      "Taxable Amount ₹1,483.32\n",
      "CGST 6.0% ₹83.50\n",
      "SGST 6.0% ₹83.50\n",
      "CGST 9.0% ₹8.26\n",
      "SGST 9.0% ₹8.26\n",
      "Round Off 0.18\n",
      "Total₹1,667.00\n",
      "Total Discount ₹290.02\n",
      "Total Items / Qty : 3 / 7.000 Total amount (in words):  INR One Thousand, Six Hundred And Sixty-Seven Rupees Only .\n",
      "Amount Paid\n",
      "Pay using UPI: \n",
      "Bank Details:\n",
      "Bank:Kotak Mahindra Bank\n",
      "Account #: 1146860541\n",
      "IFSC Code: kkbk0000725\n",
      "Branch: PUNE - CHINCHWAD\n",
      "UnCue Dermacare Pvt LtdFor UNCUE DERMACARE PRIVATE LIMITED  \n",
      "Authorized Signatory \n",
      "Swipe | Simple Invoicing, Billing and Payments | Visit getswipe.in\n",
      "Page 1 / 1 This is a computer generated document and requires no signature.Powered By\n",
      "\n"
     ]
    }
   ],
   "source": [
    "import PyPDF2\n",
    "\n",
    "def extract_text_from_pdf(pdf_path):\n",
    "  with open(pdf_path, 'rb') as pdf_file:\n",
    "    pdf_reader = PyPDF2.PdfReader(pdf_file)\n",
    "    text = \"\"\n",
    "    for page_num in range(len(pdf_reader.pages)):\n",
    "      page = pdf_reader.pages[page_num]\n",
    "      text += page.extract_text()\n",
    "    return text\n"
   ]
  },
  {
   "cell_type": "code",
   "execution_count": 52,
   "id": "dd1261ba-dec9-4cc0-afa7-c89aa8bc379c",
   "metadata": {},
   "outputs": [
    {
     "data": {
      "text/plain": [
       "24"
      ]
     },
     "execution_count": 52,
     "metadata": {},
     "output_type": "execute_result"
    }
   ],
   "source": [
    "len(a)"
   ]
  },
  {
   "cell_type": "code",
   "execution_count": 58,
   "id": "8f892319-7a79-4366-b28a-86ff3969f9b1",
   "metadata": {},
   "outputs": [],
   "source": [
    "def divide(text):\n",
    "    line=text.splitlines()\n",
    "    line=line[2:]\n",
    "    for i in range(len(line)):\n",
    "        if line[i]=='Amount Paid':\n",
    "            line=line[:i]\n",
    "        break\n",
    "    return line    "
   ]
  },
  {
   "cell_type": "code",
   "execution_count": 95,
   "id": "6f4def18-1396-4aa5-a60d-5f1bdf9c1784",
   "metadata": {},
   "outputs": [],
   "source": [
    "lines=[]\n",
    "for i in range(len(a)):\n",
    "    lines.append(divide(a[i]))"
   ]
  },
  {
   "cell_type": "code",
   "execution_count": 63,
   "id": "6e48fe72-7403-4b8e-8fb6-8657974dfecd",
   "metadata": {},
   "outputs": [],
   "source": [
    "import numpy as np"
   ]
  },
  {
   "cell_type": "code",
   "execution_count": 204,
   "id": "429e46c8-73ac-48a5-aa37-9bbfb7b2b6e2",
   "metadata": {},
   "outputs": [],
   "source": [
    "\n",
    "def info(line):\n",
    "    customer_info=[]\n",
    "    for i in range (len(line)):\n",
    "        if line[i]=='#Item Rate / Item QtyTaxable ValueTax AmountAmount':\n",
    "            for j in range(i):\n",
    "                customer_info.append(line[j])\n",
    "            break\n",
    "    for i in range(len(customer_info)):\n",
    "        if customer_info[i]=='Customer Details:':\n",
    "            customer_name=customer_info[i+1]\n",
    "   \n",
    "    invoice_number=customer_info[5].split(' ')[2]\n",
    "    Invoice_date=\" \".join(customer_info[5].split(' ')[5:8])\n",
    "    Due_date=\" \".join(customer_info[5].split(' ')[10:14])\n",
    "    return customer_name, invoice_number, Invoice_date, Due_date"
   ]
  },
  {
   "cell_type": "code",
   "execution_count": 206,
   "id": "9edc045f-32df-4fa0-98be-d7d7fefb962d",
   "metadata": {},
   "outputs": [],
   "source": [
    "customer_name=[]\n",
    "invoice_number=[]\n",
    "Invoice_date=[]\n",
    "Due_date=[]\n",
    "\n",
    "for i in range (len(lines)):\n",
    "    \n",
    "    customer_name.append(info(lines[i])[0])\n",
    "    invoice_number.append(info(lines[i])[1])\n",
    "    Invoice_date.append(info(lines[i])[2])\n",
    "    Due_date.append(info(lines[i])[3])"
   ]
  },
  {
   "cell_type": "code",
   "execution_count": 211,
   "id": "e633c30a-0205-4661-8aed-e39fc4473ff1",
   "metadata": {},
   "outputs": [],
   "source": [
    "Customer_Info={\"customer_name\":customer_name,\"invoice_number\":invoice_number,\"Invoice_date\":Invoice_date,\"Due_date\":Due_date}"
   ]
  },
  {
   "cell_type": "code",
   "execution_count": 213,
   "id": "21a2cc68-a582-4fcd-b231-661aea79d02e",
   "metadata": {},
   "outputs": [],
   "source": [
    "import pandas as pd"
   ]
  },
  {
   "cell_type": "code",
   "execution_count": 214,
   "id": "ff7d0ff1-7ef4-45f3-8d24-f758d082afa1",
   "metadata": {},
   "outputs": [],
   "source": [
    "Customer_Info=pd.DataFrame.from_dict(Customer_Info)"
   ]
  },
  {
   "cell_type": "code",
   "execution_count": 215,
   "id": "dc7a605d-dc8c-4445-8886-3a7d9890a08c",
   "metadata": {},
   "outputs": [
    {
     "data": {
      "text/html": [
       "<div>\n",
       "<style scoped>\n",
       "    .dataframe tbody tr th:only-of-type {\n",
       "        vertical-align: middle;\n",
       "    }\n",
       "\n",
       "    .dataframe tbody tr th {\n",
       "        vertical-align: top;\n",
       "    }\n",
       "\n",
       "    .dataframe thead th {\n",
       "        text-align: right;\n",
       "    }\n",
       "</style>\n",
       "<table border=\"1\" class=\"dataframe\">\n",
       "  <thead>\n",
       "    <tr style=\"text-align: right;\">\n",
       "      <th></th>\n",
       "      <th>customer_name</th>\n",
       "      <th>invoice_number</th>\n",
       "      <th>Invoice_date</th>\n",
       "      <th>Due_date</th>\n",
       "    </tr>\n",
       "  </thead>\n",
       "  <tbody>\n",
       "    <tr>\n",
       "      <th>0</th>\n",
       "      <td>Naman</td>\n",
       "      <td>INV-117</td>\n",
       "      <td>01 Feb 2024</td>\n",
       "      <td>29 Jan 2024</td>\n",
       "    </tr>\n",
       "    <tr>\n",
       "      <th>1</th>\n",
       "      <td>Rashu</td>\n",
       "      <td>INV-118</td>\n",
       "      <td>30 Jan 2024</td>\n",
       "      <td>30 Jan 2024</td>\n",
       "    </tr>\n",
       "    <tr>\n",
       "      <th>2</th>\n",
       "      <td>Jitesh Soni</td>\n",
       "      <td>INV-121</td>\n",
       "      <td>29 Jan 2024</td>\n",
       "      <td>29 Jan 2024</td>\n",
       "    </tr>\n",
       "    <tr>\n",
       "      <th>3</th>\n",
       "      <td>Asit</td>\n",
       "      <td>INV-123</td>\n",
       "      <td>08 Feb 2024</td>\n",
       "      <td>08 Feb 2024</td>\n",
       "    </tr>\n",
       "    <tr>\n",
       "      <th>4</th>\n",
       "      <td>Ankita Sattva</td>\n",
       "      <td>INV-124</td>\n",
       "      <td>10 Feb 2024</td>\n",
       "      <td>10 Feb 2024</td>\n",
       "    </tr>\n",
       "    <tr>\n",
       "      <th>5</th>\n",
       "      <td>Avik Mallick</td>\n",
       "      <td>INV-127</td>\n",
       "      <td>23 Feb 2024</td>\n",
       "      <td>23 Feb 2024</td>\n",
       "    </tr>\n",
       "    <tr>\n",
       "      <th>6</th>\n",
       "      <td>Atia Latif</td>\n",
       "      <td>INV-128</td>\n",
       "      <td>23 Feb 2024</td>\n",
       "      <td>23 Feb 2024</td>\n",
       "    </tr>\n",
       "    <tr>\n",
       "      <th>7</th>\n",
       "      <td>Divya Suhane</td>\n",
       "      <td>INV-129</td>\n",
       "      <td>23 Feb 2024</td>\n",
       "      <td>23 Feb 2024</td>\n",
       "    </tr>\n",
       "    <tr>\n",
       "      <th>8</th>\n",
       "      <td>Sheetal Kapur</td>\n",
       "      <td>INV-133</td>\n",
       "      <td>01 Mar 2024</td>\n",
       "      <td>01 Mar 2024</td>\n",
       "    </tr>\n",
       "    <tr>\n",
       "      <th>9</th>\n",
       "      <td>Sheetal Kapur</td>\n",
       "      <td>INV-134</td>\n",
       "      <td>01 Mar 2024</td>\n",
       "      <td>01 Mar 2024</td>\n",
       "    </tr>\n",
       "    <tr>\n",
       "      <th>10</th>\n",
       "      <td>Mohith Saragur</td>\n",
       "      <td>INV-135</td>\n",
       "      <td>01 Mar 2024</td>\n",
       "      <td>01 Mar 2024</td>\n",
       "    </tr>\n",
       "    <tr>\n",
       "      <th>11</th>\n",
       "      <td>Rishabh Ramola</td>\n",
       "      <td>INV-136</td>\n",
       "      <td>15 Feb 2024</td>\n",
       "      <td>04 Mar 2024</td>\n",
       "    </tr>\n",
       "    <tr>\n",
       "      <th>12</th>\n",
       "      <td>Agrani Kandele</td>\n",
       "      <td>INV-138</td>\n",
       "      <td>06 Mar 2024</td>\n",
       "      <td>06 Mar 2024</td>\n",
       "    </tr>\n",
       "    <tr>\n",
       "      <th>13</th>\n",
       "      <td>Ankit</td>\n",
       "      <td>INV-140</td>\n",
       "      <td>06 Mar 2024</td>\n",
       "      <td>06 Mar 2024</td>\n",
       "    </tr>\n",
       "    <tr>\n",
       "      <th>14</th>\n",
       "      <td>Kasturi Kalwar</td>\n",
       "      <td>INV-141</td>\n",
       "      <td>06 Mar 2024</td>\n",
       "      <td>06 Mar 2024</td>\n",
       "    </tr>\n",
       "    <tr>\n",
       "      <th>15</th>\n",
       "      <td>Urmila Jangam</td>\n",
       "      <td>INV-142</td>\n",
       "      <td>07 Mar 2024</td>\n",
       "      <td>07 Mar 2024</td>\n",
       "    </tr>\n",
       "    <tr>\n",
       "      <th>16</th>\n",
       "      <td>Prashant</td>\n",
       "      <td>INV-143</td>\n",
       "      <td>28 Mar 2024</td>\n",
       "      <td>28 Mar 2024</td>\n",
       "    </tr>\n",
       "    <tr>\n",
       "      <th>17</th>\n",
       "      <td>Atia Latif</td>\n",
       "      <td>INV-144</td>\n",
       "      <td>28 Mar 2024</td>\n",
       "      <td>28 Mar 2024</td>\n",
       "    </tr>\n",
       "    <tr>\n",
       "      <th>18</th>\n",
       "      <td>Indraja Mohite</td>\n",
       "      <td>INV-145</td>\n",
       "      <td>28 Mar 2024</td>\n",
       "      <td>28 Mar 2024</td>\n",
       "    </tr>\n",
       "    <tr>\n",
       "      <th>19</th>\n",
       "      <td>Abhikaran Jalonha</td>\n",
       "      <td>INV-146</td>\n",
       "      <td>29 Mar 2024</td>\n",
       "      <td>29 Mar 2024</td>\n",
       "    </tr>\n",
       "    <tr>\n",
       "      <th>20</th>\n",
       "      <td>Divya Suhane</td>\n",
       "      <td>INV-147</td>\n",
       "      <td>29 Mar 2024</td>\n",
       "      <td>29 Mar 2024</td>\n",
       "    </tr>\n",
       "    <tr>\n",
       "      <th>21</th>\n",
       "      <td>harshit rathore</td>\n",
       "      <td>INV-148</td>\n",
       "      <td>30 Mar 2024</td>\n",
       "      <td>01 Apr 2024</td>\n",
       "    </tr>\n",
       "    <tr>\n",
       "      <th>22</th>\n",
       "      <td>Karishma Bande</td>\n",
       "      <td>INV-149</td>\n",
       "      <td>22 Mar 2024</td>\n",
       "      <td>01 Apr 2024</td>\n",
       "    </tr>\n",
       "    <tr>\n",
       "      <th>23</th>\n",
       "      <td>Bhusan Naresh</td>\n",
       "      <td>INV-150</td>\n",
       "      <td>22 Mar 2024</td>\n",
       "      <td>01 Apr 2024</td>\n",
       "    </tr>\n",
       "  </tbody>\n",
       "</table>\n",
       "</div>"
      ],
      "text/plain": [
       "        customer_name invoice_number Invoice_date     Due_date\n",
       "0               Naman        INV-117  01 Feb 2024  29 Jan 2024\n",
       "1               Rashu        INV-118  30 Jan 2024  30 Jan 2024\n",
       "2         Jitesh Soni        INV-121  29 Jan 2024  29 Jan 2024\n",
       "3                Asit        INV-123  08 Feb 2024  08 Feb 2024\n",
       "4       Ankita Sattva        INV-124  10 Feb 2024  10 Feb 2024\n",
       "5        Avik Mallick        INV-127  23 Feb 2024  23 Feb 2024\n",
       "6          Atia Latif        INV-128  23 Feb 2024  23 Feb 2024\n",
       "7        Divya Suhane        INV-129  23 Feb 2024  23 Feb 2024\n",
       "8       Sheetal Kapur        INV-133  01 Mar 2024  01 Mar 2024\n",
       "9       Sheetal Kapur        INV-134  01 Mar 2024  01 Mar 2024\n",
       "10     Mohith Saragur        INV-135  01 Mar 2024  01 Mar 2024\n",
       "11     Rishabh Ramola        INV-136  15 Feb 2024  04 Mar 2024\n",
       "12     Agrani Kandele        INV-138  06 Mar 2024  06 Mar 2024\n",
       "13              Ankit        INV-140  06 Mar 2024  06 Mar 2024\n",
       "14     Kasturi Kalwar        INV-141  06 Mar 2024  06 Mar 2024\n",
       "15      Urmila Jangam        INV-142  07 Mar 2024  07 Mar 2024\n",
       "16           Prashant        INV-143  28 Mar 2024  28 Mar 2024\n",
       "17         Atia Latif        INV-144  28 Mar 2024  28 Mar 2024\n",
       "18     Indraja Mohite        INV-145  28 Mar 2024  28 Mar 2024\n",
       "19  Abhikaran Jalonha        INV-146  29 Mar 2024  29 Mar 2024\n",
       "20       Divya Suhane        INV-147  29 Mar 2024  29 Mar 2024\n",
       "21    harshit rathore        INV-148  30 Mar 2024  01 Apr 2024\n",
       "22     Karishma Bande        INV-149  22 Mar 2024  01 Apr 2024\n",
       "23      Bhusan Naresh        INV-150  22 Mar 2024  01 Apr 2024"
      ]
     },
     "execution_count": 215,
     "metadata": {},
     "output_type": "execute_result"
    }
   ],
   "source": [
    "Customer_Info"
   ]
  },
  {
   "cell_type": "code",
   "execution_count": 216,
   "id": "1ec1b7b8-f76d-4be7-9c80-99f82d33316e",
   "metadata": {},
   "outputs": [],
   "source": [
    "Customer_Info.to_excel(\"Customer_info.xlsx\", index=False) "
   ]
  },
  {
   "cell_type": "code",
   "execution_count": 218,
   "id": "568679cc-eab4-4c72-9d34-0a7c5dd85fb1",
   "metadata": {},
   "outputs": [
    {
     "data": {
      "text/plain": [
       "['GSTIN 23AADCU2395N1ZY     ',\n",
       " 'C/o KARUNA GUPTA KURELE, 1st Floor',\n",
       " 'S.P Bungalow Ke Pichhe, Shoagpur Shahdol, Shahdol',\n",
       " 'Shahdol, MADHYA PRADESH, 484001',\n",
       " 'Mobile +91 8585960963   Email ruhi@dermaq.in',\n",
       " 'Invoice #: INV-118 Invoice Date: 30 Jan 2024 Due Date: 30 Jan 2024',\n",
       " 'Customer Details:',\n",
       " 'Rashu',\n",
       " 'Place of Supply: ',\n",
       " '23-MADHYA PRADESH',\n",
       " '#Item Rate / Item QtyTaxable ValueTax AmountAmount',\n",
       " '1Vitamin b12 test  350.00 1350.000.00 (0%)350.00',\n",
       " 'Taxable Amount ₹350.00',\n",
       " 'Total ₹350.00',\n",
       " 'Total Items / Qty : 1 / 1.000 Total amount (in words): \\xa0INR Three Hundred And Fifty Rupees Only .',\n",
       " 'Amount Paid',\n",
       " 'Pay using UPI: ',\n",
       " 'Bank Details:',\n",
       " 'Bank:Kotak Mahindra Bank',\n",
       " 'Account #: 1146860541',\n",
       " 'IFSC Code: kkbk0000725',\n",
       " 'Branch: PUNE - CHINCHWAD',\n",
       " 'UnCue Dermacare Pvt LtdFor UNCUE DERMACARE PRIVATE LIMITED  ',\n",
       " 'Authorized Signatory ',\n",
       " 'Swipe | Simple Invoicing, Billing and Payments | Visit getswipe.in',\n",
       " 'Page 1 / 1 This is a computer generated document and requires no signature.Powered By']"
      ]
     },
     "execution_count": 218,
     "metadata": {},
     "output_type": "execute_result"
    }
   ],
   "source": [
    "lines[1]"
   ]
  },
  {
   "cell_type": "code",
   "execution_count": 232,
   "id": "ac4e4031-0b18-4ebb-b922-c9c072c62a6f",
   "metadata": {},
   "outputs": [],
   "source": [
    "def spreadsheet(line):\n",
    "    spreadsheet=[]\n",
    "    for i in range (len(line)):\n",
    "        if line[i]=='#Item Rate / Item QtyTaxable ValueTax AmountAmount':\n",
    "            for j in range(i+1,len(line)):\n",
    "                spreadsheet.append(line[j])\n",
    "            break\n",
    "    \n",
    "    return spreadsheet"
   ]
  },
  {
   "cell_type": "code",
   "execution_count": 231,
   "id": "1c5e42d0-382f-4856-9d3e-3177c47e3786",
   "metadata": {},
   "outputs": [
    {
     "data": {
      "text/plain": [
       "['1Vitamin b12 test  350.00 1350.000.00 (0%)350.00',\n",
       " 'Taxable Amount ₹350.00',\n",
       " 'Total ₹350.00',\n",
       " 'Total Items / Qty : 1 / 1.000 Total amount (in words): \\xa0INR Three Hundred And Fifty Rupees Only .',\n",
       " 'Amount Paid',\n",
       " 'Pay using UPI: ',\n",
       " 'Bank Details:',\n",
       " 'Bank:Kotak Mahindra Bank',\n",
       " 'Account #: 1146860541',\n",
       " 'IFSC Code: kkbk0000725',\n",
       " 'Branch: PUNE - CHINCHWAD',\n",
       " 'UnCue Dermacare Pvt LtdFor UNCUE DERMACARE PRIVATE LIMITED  ',\n",
       " 'Authorized Signatory ',\n",
       " 'Swipe | Simple Invoicing, Billing and Payments | Visit getswipe.in',\n",
       " 'Page 1 / 1 This is a computer generated document and requires no signature.Powered By']"
      ]
     },
     "execution_count": 231,
     "metadata": {},
     "output_type": "execute_result"
    }
   ],
   "source": [
    "spreadsheet(lines[1])"
   ]
  },
  {
   "cell_type": "code",
   "execution_count": 531,
   "id": "af87171e-6136-4262-b4cd-2902c19606d3",
   "metadata": {},
   "outputs": [],
   "source": [
    "spreadsheets=[]\n",
    "for i in range(len(lines)):\n",
    "    spreadsheets.append(spreadsheet(lines[i]))\n"
   ]
  },
  {
   "cell_type": "code",
   "execution_count": 244,
   "id": "0b292f81-c20c-4d41-938d-30dae5f22b08",
   "metadata": {},
   "outputs": [
    {
     "data": {
      "text/plain": [
       "['1Vitamin b12 test  350.00 1350.000.00 (0%)350.00',\n",
       " 'Taxable Amount ₹350.00',\n",
       " 'Total ₹350.00',\n",
       " 'Total Items / Qty : 1 / 1.000 Total amount (in words): \\xa0INR Three Hundred And Fifty Rupees Only .',\n",
       " 'Amount Paid',\n",
       " 'Pay using UPI: ',\n",
       " 'Bank Details:',\n",
       " 'Bank:Kotak Mahindra Bank',\n",
       " 'Account #: 1146860541',\n",
       " 'IFSC Code: kkbk0000725',\n",
       " 'Branch: PUNE - CHINCHWAD',\n",
       " 'UnCue Dermacare Pvt LtdFor UNCUE DERMACARE PRIVATE LIMITED  ',\n",
       " 'Authorized Signatory ',\n",
       " 'Swipe | Simple Invoicing, Billing and Payments | Visit getswipe.in',\n",
       " 'Page 1 / 1 This is a computer generated document and requires no signature.Powered By']"
      ]
     },
     "execution_count": 244,
     "metadata": {},
     "output_type": "execute_result"
    }
   ],
   "source": []
  },
  {
   "cell_type": "code",
   "execution_count": 557,
   "id": "6dc29798-b251-4aec-92a3-b2cc5868eb97",
   "metadata": {},
   "outputs": [],
   "source": [
    "Item=[]\n",
    "Item1=[]\n",
    "Item_price=[]\n",
    "for k in range (len(spreadsheets)):\n",
    "    item_quantity=[]\n",
    "    item=[]\n",
    "    item2=[]\n",
    "    item_price=[]\n",
    "    for i in range(len(spreadsheets[k])):\n",
    "        if i%2==0:\n",
    "            item_price.append(spreadsheets[k][i].split(\" \")[-1])\n",
    "            item.append(\" \".join(spreadsheets[k][i].split(\" \")[:-1]))\n",
    "    \n",
    "    for i in range (0,len(item)):\n",
    "        if item[i]==\"Total\":\n",
    "            item2.append((item[:i]))\n",
    "            break\n",
    "        if item[i]==\"Taxable Amount\":\n",
    "            item2.append((item[:i]))\n",
    "            break\n",
    "        if item[i]==\"Taxable Amount\"+\" \":\n",
    "            item2.append((item[:i]))\n",
    "            break\n",
    "    \n",
    "    Item_price.append(item_price)\n",
    "    Item1.append(item)\n",
    "    Item.append(item2)\n",
    "    "
   ]
  },
  {
   "cell_type": "code",
   "execution_count": 1008,
   "id": "7aa6f632-a5e7-49cd-9cd3-87e9361a49fa",
   "metadata": {},
   "outputs": [],
   "source": [
    "\n",
    "for i in range(len(Item)):\n",
    "    if Item[i]==[]:\n",
    "        Item[i]=[\"Error\"]\n",
    "          "
   ]
  },
  {
   "cell_type": "code",
   "execution_count": null,
   "id": "e7b64eeb-01f5-4e10-80e8-59f280dd7c76",
   "metadata": {},
   "outputs": [],
   "source": []
  },
  {
   "cell_type": "code",
   "execution_count": 1002,
   "id": "b6903638-8289-419a-86dc-30499c1008e6",
   "metadata": {},
   "outputs": [
    {
     "data": {
      "text/plain": [
       "[[['1Kera M 5% Solution',\n",
       "   '2Arachitol Nano (60k) 4*5ml ',\n",
       "   '3Neurobion Forte - 30 tablets  ']],\n",
       " [['1Vitamin b12 test  350.00 1350.000.00']],\n",
       " [['1Acne-UV Gel - spf 50 (50 gm) ', '2Arachitol Nano (60k) 4*5ml ']],\n",
       " [['1Arachitol Nano (60k) 4*5ml ', '2Neurobion Forte - 30 tablets  ']],\n",
       " [['1Arachitol Nano (60k) 4*5ml  340.433 BTL1,021.29122.55']],\n",
       " ['Error'],\n",
       " ['Error'],\n",
       " [['1sotret nf 16 mg - 10 capsules ', '2Ekran Aqua Sunscreen Spf 30 ']],\n",
       " [['1Glogeous facewash',\n",
       "   '2Bristaa Intense Cream ',\n",
       "   '3Anaboom AD Lotion - 50 ml ',\n",
       "   '4Anaboom AD Shampoo ',\n",
       "   '5Acutret 5 mg']],\n",
       " [['1ATODERM Moisturiser ']],\n",
       " [['1Tab flucon 400mg ',\n",
       "   '2Lupizol ZS Shampoo 100 ml ',\n",
       "   '3Anaboom AD Lotion - 50 ml ']],\n",
       " [['1Solasafe sunscreen gel spf 50 ']],\n",
       " [['1Cetaphil Gentle Cleansing Lotion - Oily',\n",
       "   '461.86 (-10%)1 BTL415.6874.82',\n",
       "   '600.85 (-20%)1480.6886.52',\n",
       "   'gm']],\n",
       " [['1Keraglo Men Tablet - 30 tablets ', '2Kera-FM 5% Topical Solution ']],\n",
       " ['Error'],\n",
       " [['1Kera XL New Hair Growth Serum ']],\n",
       " [['1Arachitol 317.86 72,225.00267.00', '2,542.37']],\n",
       " [['1Bioderma Pigmentbio C-concentrate ',\n",
       "   '2Arachitol Nano (60k) 4*5ml ',\n",
       "   '3Solasafe sunscreen gel spf 50 ',\n",
       "   '4Lab test - full body checkup  2,000.00 36,000.000.00']],\n",
       " ['Error'],\n",
       " [['1Cetaphil DAM Advance',\n",
       "   '438.98 (-10%)1 TUB395.0871.12',\n",
       "   'Face Wash Gel',\n",
       "   '3Acutret 20 mg - 10 capsules ',\n",
       "   '4 Faireye under eye cream ',\n",
       "   '5Biluma cream - 15 gm ']],\n",
       " [['1Solasafe sunscreen gel spf 50 ',\n",
       "   '2Trapic 500 TA - 10 ',\n",
       "   '3Depiwhite Advanced Cream - 15 ml ',\n",
       "   '4Fixderma Shadow SPF 50+ Cream ',\n",
       "   '5Sortet F 16 mg - 10 cap ']],\n",
       " [['1Zincovit tablet ', '2Sevenseas Cap']],\n",
       " [['1Excela Moisturiser - 50 gm ']],\n",
       " ['Error']]"
      ]
     },
     "execution_count": 1002,
     "metadata": {},
     "output_type": "execute_result"
    }
   ],
   "source": [
    "Item"
   ]
  },
  {
   "cell_type": "code",
   "execution_count": 1007,
   "id": "1487df62-8571-4b4b-94b6-b542ff6f501d",
   "metadata": {},
   "outputs": [
    {
     "name": "stderr",
     "output_type": "stream",
     "text": [
      "<>:5: SyntaxWarning: invalid decimal literal\n",
      "<>:5: SyntaxWarning: \"is not\" with 'int' literal. Did you mean \"!=\"?\n",
      "<>:5: SyntaxWarning: invalid decimal literal\n",
      "<>:5: SyntaxWarning: \"is not\" with 'int' literal. Did you mean \"!=\"?\n",
      "C:\\Users\\marji\\AppData\\Local\\Temp\\ipykernel_11312\\615020671.py:5: SyntaxWarning: invalid decimal literal\n",
      "  if i%2is not 0:\n",
      "C:\\Users\\marji\\AppData\\Local\\Temp\\ipykernel_11312\\615020671.py:5: SyntaxWarning: \"is not\" with 'int' literal. Did you mean \"!=\"?\n",
      "  if i%2is not 0:\n"
     ]
    }
   ],
   "source": [
    "Tax_price=[]\n",
    "for k in range(len(Item)):\n",
    "    tax_price=[]\n",
    "    for i in range(2*len(Item[k][0])):\n",
    "         if i%2is not 0:\n",
    "             tax_price.append((spreadsheets[k][i].split(\" \")[-1].split(\")\")[-1]))\n",
    "             \n",
    "             \n",
    "        \n",
    "    Tax_price.append(tax_price)    "
   ]
  },
  {
   "cell_type": "code",
   "execution_count": 738,
   "id": "68286497-f72a-42eb-85b4-2ee25e905008",
   "metadata": {},
   "outputs": [
    {
     "data": {
      "text/plain": [
       "['₹350.00']"
      ]
     },
     "execution_count": 738,
     "metadata": {},
     "output_type": "execute_result"
    }
   ],
   "source": [
    "Tax_price[1]"
   ]
  },
  {
   "cell_type": "code",
   "execution_count": 741,
   "id": "54280f9e-9ea8-4ece-9284-ae6d236f0de2",
   "metadata": {},
   "outputs": [
    {
     "data": {
      "text/plain": [
       "'1,006.58'"
      ]
     },
     "execution_count": 741,
     "metadata": {},
     "output_type": "execute_result"
    }
   ],
   "source": [
    "Tax_price[0][1]"
   ]
  },
  {
   "cell_type": "code",
   "execution_count": 1042,
   "id": "48bcf89b-a25e-4542-8008-79b2d128b013",
   "metadata": {},
   "outputs": [],
   "source": [
    "l=[]\n",
    "dict={}\n",
    "for k in range(len(Item)):\n",
    "    \n",
    "    for i in range(len(Item[k][0])):\n",
    "        dict[Item[k][0][i]]=Tax_price[k][i]\n",
    "    l.append(dict)\n",
    "    dict={}"
   ]
  },
  {
   "cell_type": "code",
   "execution_count": 1075,
   "id": "6ecabf12-927b-4196-a3ec-e218625ca42c",
   "metadata": {},
   "outputs": [
    {
     "data": {
      "text/plain": [
       "{'1Kera M 5% Solution': '552.00',\n",
       " '2Arachitol Nano (60k) 4*5ml ': '1,006.58',\n",
       " '3Neurobion Forte - 30 tablets  ': '108.24'}"
      ]
     },
     "execution_count": 1075,
     "metadata": {},
     "output_type": "execute_result"
    }
   ],
   "source": [
    "l[0]"
   ]
  },
  {
   "cell_type": "code",
   "execution_count": 1077,
   "id": "34066b2f-1d5b-4d43-b05e-238ef59a3c61",
   "metadata": {},
   "outputs": [],
   "source": [
    "df = pd.DataFrame(l)"
   ]
  },
  {
   "cell_type": "code",
   "execution_count": 1079,
   "id": "134b86e9-475a-4f4a-acad-fc77a5a191b7",
   "metadata": {},
   "outputs": [],
   "source": [
    "o=[]\n",
    "\n",
    "for i in range(len(l)):\n",
    "    do = pd.DataFrame({'Products': l[i].keys(), 'Price': l[i].values()})\n",
    "    for j in range(len(Item[i][0]),len(df)):\n",
    "        df.drop([j],axis=0,inplace=True)\n",
    "    o.append(do)"
   ]
  },
  {
   "cell_type": "code",
   "execution_count": 1080,
   "id": "dd51e081-6d75-4270-8d9a-295cb684417e",
   "metadata": {},
   "outputs": [
    {
     "data": {
      "text/plain": [
       "[                          Products     Price\n",
       " 0              1Kera M 5% Solution    552.00\n",
       " 1     2Arachitol Nano (60k) 4*5ml   1,006.58\n",
       " 2  3Neurobion Forte - 30 tablets      108.24,\n",
       "                                 Products    Price\n",
       " 0  1Vitamin b12 test  350.00 1350.000.00  ₹350.00,\n",
       "                          Products   Price\n",
       " 0  1Acne-UV Gel - spf 50 (50 gm)   686.25\n",
       " 1    2Arachitol Nano (60k) 4*5ml   324.09,\n",
       "                           Products     Price\n",
       " 0     1Arachitol Nano (60k) 4*5ml   1,006.58\n",
       " 1  2Neurobion Forte - 30 tablets      108.24,\n",
       "                                             Products   Price\n",
       " 0  1Arachitol Nano (60k) 4*5ml  340.433 BTL1,021....  123.00,\n",
       "   Products    Price\n",
       " 0        E   397.50\n",
       " 1        r        .\n",
       " 2        o  ₹944.00,\n",
       "   Products    Price\n",
       " 0        E         \n",
       " 1        r     Paid\n",
       " 2        o  ₹550.00,\n",
       "                           Products   Price\n",
       " 0  1sotret nf 16 mg - 10 capsules   950.40\n",
       " 1    2Ekran Aqua Sunscreen Spf 30   316.80,\n",
       "                       Products   Price\n",
       " 0           1Glogeous facewash  926.50\n",
       " 1      2Bristaa Intense Cream   884.94\n",
       " 2  3Anaboom AD Lotion - 50 ml   275.40\n",
       " 3         4Anaboom AD Shampoo   342.32\n",
       " 4                5Acutret 5 mg  272.76,\n",
       "                 Products   Price\n",
       " 0  1ATODERM Moisturiser   854.05,\n",
       "                       Products   Price\n",
       " 0           1Tab flucon 400mg    79.94\n",
       " 1  2Lupizol ZS Shampoo 100 ml   414.30\n",
       " 2  3Anaboom AD Lotion - 50 ml   299.20,\n",
       "                           Products     Price\n",
       " 0  1Solasafe sunscreen gel spf 50   1,134.40,\n",
       "                                    Products   Price\n",
       " 0  1Cetaphil Gentle Cleansing Lotion - Oily  415.68\n",
       " 1             461.86 (-10%)1 BTL415.6874.82  480.68\n",
       " 2                 600.85 (-20%)1480.6886.52        \n",
       " 3                                        gm  447.20,\n",
       "                             Products   Price\n",
       " 0  1Keraglo Men Tablet - 30 tablets   564.00\n",
       " 1      2Kera-FM 5% Topical Solution   583.96,\n",
       "   Products           Price\n",
       " 0        E          732.00\n",
       " 1        r  Total₹1,754.00\n",
       " 2        o         ₹133.74,\n",
       "                           Products     Price\n",
       " 0  1Kera XL New Hair Growth Serum   1,032.00,\n",
       "                             Products     Price\n",
       " 0  1Arachitol 317.86 72,225.00267.00  2,169.49\n",
       " 1                           2,542.37  5,120.00,\n",
       "                                             Products      Price\n",
       " 0                1Bioderma Pigmentbio C-concentrate    2,789.10\n",
       " 1                       2Arachitol Nano (60k) 4*5ml      671.05\n",
       " 2                    3Solasafe sunscreen gel spf 50    1,595.25\n",
       " 3  4Lab test - full body checkup  2,000.00 36,000...  12,992.00,\n",
       "   Products           Price\n",
       " 0        E        2,080.80\n",
       " 1        r               .\n",
       " 2        o  Total₹2,141.00,\n",
       "                         Products     Price\n",
       " 0          1Cetaphil DAM Advance    395.08\n",
       " 1  438.98 (-10%)1 TUB395.0871.12          \n",
       " 2                  Face Wash Gel    656.48\n",
       " 3  3Acutret 20 mg - 10 capsules   1,387.20\n",
       " 4     4 Faireye under eye cream     821.04\n",
       " 5         5Biluma cream - 15 gm     545.60,\n",
       "                              Products     Price\n",
       " 0     1Solasafe sunscreen gel spf 50     531.75\n",
       " 1                2Trapic 500 TA - 10     513.74\n",
       " 2  3Depiwhite Advanced Cream - 15 ml     585.20\n",
       " 3     4Fixderma Shadow SPF 50+ Cream     484.00\n",
       " 4           5Sortet F 16 mg - 10 cap   1,900.80,\n",
       "             Products   Price\n",
       " 0  1Zincovit tablet   554.40\n",
       " 1     2Sevenseas Cap  679.36,\n",
       "                        Products   Price\n",
       " 0  1Excela Moisturiser - 50 gm   437.36,\n",
       "   Products    Price\n",
       " 0        E   394.51\n",
       " 1        r        .\n",
       " 2        o  ₹466.00]"
      ]
     },
     "execution_count": 1080,
     "metadata": {},
     "output_type": "execute_result"
    }
   ],
   "source": [
    "o"
   ]
  },
  {
   "cell_type": "code",
   "execution_count": 1081,
   "id": "3a8d0ea2-a0c1-4d0c-9bf5-ea0a3e72dcad",
   "metadata": {},
   "outputs": [],
   "source": [
    "\n",
    "for i in range(len(o)):\n",
    "        list=[str((Customer_Info[['customer_name']].iloc[i])).split(\" \")[4][:-6]]\n",
    "        o[i][\"customer_name\"]=list*len(o[i])\n",
    "        "
   ]
  },
  {
   "cell_type": "code",
   "execution_count": 1082,
   "id": "f1b5249e-c043-4a6e-a703-0d28b5b51467",
   "metadata": {},
   "outputs": [],
   "source": [
    "data=[]\n",
    "d3 = pd.DataFrame(data)\n",
    "d3=pd.concat(o)"
   ]
  },
  {
   "cell_type": "code",
   "execution_count": 1083,
   "id": "66418ec1-896f-484e-ad3c-3017d4577a3d",
   "metadata": {},
   "outputs": [
    {
     "data": {
      "text/html": [
       "<div>\n",
       "<style scoped>\n",
       "    .dataframe tbody tr th:only-of-type {\n",
       "        vertical-align: middle;\n",
       "    }\n",
       "\n",
       "    .dataframe tbody tr th {\n",
       "        vertical-align: top;\n",
       "    }\n",
       "\n",
       "    .dataframe thead th {\n",
       "        text-align: right;\n",
       "    }\n",
       "</style>\n",
       "<table border=\"1\" class=\"dataframe\">\n",
       "  <thead>\n",
       "    <tr style=\"text-align: right;\">\n",
       "      <th></th>\n",
       "      <th>Products</th>\n",
       "      <th>Price</th>\n",
       "      <th>customer_name</th>\n",
       "    </tr>\n",
       "  </thead>\n",
       "  <tbody>\n",
       "    <tr>\n",
       "      <th>0</th>\n",
       "      <td>1Kera M 5% Solution</td>\n",
       "      <td>552.00</td>\n",
       "      <td>Naman</td>\n",
       "    </tr>\n",
       "    <tr>\n",
       "      <th>1</th>\n",
       "      <td>2Arachitol Nano (60k) 4*5ml</td>\n",
       "      <td>1,006.58</td>\n",
       "      <td>Naman</td>\n",
       "    </tr>\n",
       "    <tr>\n",
       "      <th>2</th>\n",
       "      <td>3Neurobion Forte - 30 tablets</td>\n",
       "      <td>108.24</td>\n",
       "      <td>Naman</td>\n",
       "    </tr>\n",
       "    <tr>\n",
       "      <th>0</th>\n",
       "      <td>1Vitamin b12 test  350.00 1350.000.00</td>\n",
       "      <td>₹350.00</td>\n",
       "      <td>Rashu</td>\n",
       "    </tr>\n",
       "    <tr>\n",
       "      <th>0</th>\n",
       "      <td>1Acne-UV Gel - spf 50 (50 gm)</td>\n",
       "      <td>686.25</td>\n",
       "      <td></td>\n",
       "    </tr>\n",
       "    <tr>\n",
       "      <th>...</th>\n",
       "      <td>...</td>\n",
       "      <td>...</td>\n",
       "      <td>...</td>\n",
       "    </tr>\n",
       "    <tr>\n",
       "      <th>1</th>\n",
       "      <td>2Sevenseas Cap</td>\n",
       "      <td>679.36</td>\n",
       "      <td>h</td>\n",
       "    </tr>\n",
       "    <tr>\n",
       "      <th>0</th>\n",
       "      <td>1Excela Moisturiser - 50 gm</td>\n",
       "      <td>437.36</td>\n",
       "      <td>Ka</td>\n",
       "    </tr>\n",
       "    <tr>\n",
       "      <th>0</th>\n",
       "      <td>E</td>\n",
       "      <td>394.51</td>\n",
       "      <td></td>\n",
       "    </tr>\n",
       "    <tr>\n",
       "      <th>1</th>\n",
       "      <td>r</td>\n",
       "      <td>.</td>\n",
       "      <td></td>\n",
       "    </tr>\n",
       "    <tr>\n",
       "      <th>2</th>\n",
       "      <td>o</td>\n",
       "      <td>₹466.00</td>\n",
       "      <td></td>\n",
       "    </tr>\n",
       "  </tbody>\n",
       "</table>\n",
       "<p>63 rows × 3 columns</p>\n",
       "</div>"
      ],
      "text/plain": [
       "                                 Products     Price customer_name\n",
       "0                     1Kera M 5% Solution    552.00         Naman\n",
       "1            2Arachitol Nano (60k) 4*5ml   1,006.58         Naman\n",
       "2         3Neurobion Forte - 30 tablets      108.24         Naman\n",
       "0   1Vitamin b12 test  350.00 1350.000.00   ₹350.00         Rashu\n",
       "0          1Acne-UV Gel - spf 50 (50 gm)     686.25              \n",
       "..                                    ...       ...           ...\n",
       "1                          2Sevenseas Cap    679.36             h\n",
       "0            1Excela Moisturiser - 50 gm     437.36            Ka\n",
       "0                                       E    394.51              \n",
       "1                                       r         .              \n",
       "2                                       o   ₹466.00              \n",
       "\n",
       "[63 rows x 3 columns]"
      ]
     },
     "execution_count": 1083,
     "metadata": {},
     "output_type": "execute_result"
    }
   ],
   "source": [
    "d3"
   ]
  },
  {
   "cell_type": "code",
   "execution_count": 1084,
   "id": "0af14b8d-63a3-435c-880b-80acfdb3ac27",
   "metadata": {},
   "outputs": [],
   "source": [
    "d3.to_excel(\"output.xlsx\",sheet_name='Sheet_name')"
   ]
  },
  {
   "cell_type": "code",
   "execution_count": null,
   "id": "9ef220bf-5e91-4b00-be93-a17a9cc3d047",
   "metadata": {},
   "outputs": [],
   "source": []
  }
 ],
 "metadata": {
  "kernelspec": {
   "display_name": "Python 3 (ipykernel)",
   "language": "python",
   "name": "python3"
  },
  "language_info": {
   "codemirror_mode": {
    "name": "ipython",
    "version": 3
   },
   "file_extension": ".py",
   "mimetype": "text/x-python",
   "name": "python",
   "nbconvert_exporter": "python",
   "pygments_lexer": "ipython3",
   "version": "3.12.5"
  }
 },
 "nbformat": 4,
 "nbformat_minor": 5
}
